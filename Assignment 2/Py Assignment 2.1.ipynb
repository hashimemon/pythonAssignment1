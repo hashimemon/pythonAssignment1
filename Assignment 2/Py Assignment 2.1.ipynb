{
 "cells": [
  {
   "cell_type": "code",
   "execution_count": 17,
   "metadata": {},
   "outputs": [
    {
     "name": "stdout",
     "output_type": "stream",
     "text": [
      "Islamiat Marks : 98\n",
      "Urdu Marks : 78\n",
      "English Marks : 85\n",
      "Maths Marks : 99\n",
      "Physics Marks : 89\n",
      "Bravo!!! Your grade is 'A-1'\n",
      "Total Marks: 500\n",
      "Marks Obtained:449 with 89.8%\n"
     ]
    }
   ],
   "source": [
    "class Validations(Exception):\n",
    "    pass\n",
    "\n",
    "\"\"\" 1. Write a program which takes 5 inputs from user for different subject’s\n",
    "marks, total it and generate mark sheet using grades ? \"\"\"\n",
    "\n",
    "islamiat = int(input(\"Islamiat Marks : \"))\n",
    "if (islamiat) > 100 or (islamiat) < 0:\n",
    "    raise Validations(\"Islamiat Marks should be from 0 to 100\")\n",
    "\n",
    "\n",
    "urdu = int(input(\"Urdu Marks : \"))\n",
    "if (urdu) > 100 or (urdu) < 0:\n",
    "    raise Validations(\"Urdu Marks should be from 0 to 100\")\n",
    "    \n",
    "    \n",
    "english = int(input(\"English Marks : \"))\n",
    "if (english) > 100 or (english) < 0:\n",
    "    raise Validations(\"English Marks should be from 0 to 100\")\n",
    "    \n",
    "    \n",
    "maths = int(input(\"Maths Marks : \"))\n",
    "if (maths) > 100 or (maths) < 0:\n",
    "    raise Validations(\"Maths Marks should be from 0 to 100\")\n",
    "    \n",
    "    \n",
    "physics = int(input(\"Physics Marks : \"))\n",
    "if (physics) > 100 or (physics) < 0:\n",
    "    raise Validations(\"Physics Marks should be from 0 to 100\")\n",
    "\n",
    "\n",
    "\n",
    "\n",
    "\n",
    "marks_obt = islamiat+urdu+english+maths+physics;\n",
    "percentage = (marks_obt*100)/500\n",
    "\n",
    "\n",
    "\n",
    "if(percentage > 79):\n",
    "    print(\"Bravo!!! Your grade is 'A-1'\")\n",
    "    \n",
    "elif(percentage > 69 and percentage < 79):\n",
    "    print(\"Congratulations!!! Your grade is 'A'\")\n",
    "    \n",
    "elif(percentage > 59 and percentage < 69):\n",
    "    print(\"Good, Your grade is 'B'\")\n",
    "\n",
    "elif(percentage > 49 and percentage < 59):\n",
    "    print(\"Your grade is 'C'\")\n",
    "\n",
    "elif(percentage > 39 and percentage < 49):\n",
    "    print(\"Your grade is 'D'\")   \n",
    "    \n",
    "elif(percentage > 29 and percentage < 39):\n",
    "    print(\"Your grade is 'E'\")\n",
    "    \n",
    "else:\n",
    "    print(\"Sorry, you are FAIL...\")\n",
    "\n",
    "print (\"Total Marks : 500\")\n",
    "print (\"Marks Obtained :\" + str(marks_obt) + \" with \"+ str(percentage)+ \"%\")"
   ]
  },
  {
   "cell_type": "code",
   "execution_count": null,
   "metadata": {},
   "outputs": [],
   "source": []
  }
 ],
 "metadata": {
  "kernelspec": {
   "display_name": "Python 3",
   "language": "python",
   "name": "python3"
  },
  "language_info": {
   "codemirror_mode": {
    "name": "ipython",
    "version": 3
   },
   "file_extension": ".py",
   "mimetype": "text/x-python",
   "name": "python",
   "nbconvert_exporter": "python",
   "pygments_lexer": "ipython3",
   "version": "3.7.4"
  }
 },
 "nbformat": 4,
 "nbformat_minor": 2
}
